{
 "cells": [
  {
   "cell_type": "markdown",
   "metadata": {},
   "source": [
    "Inheritance"
   ]
  },
  {
   "cell_type": "code",
   "execution_count": 6,
   "metadata": {},
   "outputs": [],
   "source": [
    "class Characters:\n",
    "    def __init__(self, firstname, lastname):\n",
    "        self.firstname = firstname\n",
    "        self.lastname = lastname\n",
    "    \n",
    "    def introduce(self):\n",
    "        print('Hi I am', self.firstname, self.lastname)"
   ]
  },
  {
   "cell_type": "code",
   "execution_count": 27,
   "metadata": {},
   "outputs": [],
   "source": [
    "class Employee(Characters):\n",
    "    def __init__(self, firstname, lastname, gender, age, occupation):\n",
    "        super().__init__(firstname, lastname)\n",
    "        self.gender = gender\n",
    "        self.age = age\n",
    "        self.occupation = occupation\n",
    "    \n",
    "    def profile(self):\n",
    "        print('-'*25)\n",
    "        super().introduce()\n",
    "        print('Gender: ', self.gender)\n",
    "        print('Age: ', self.age)\n",
    "        print('Occupation: ', self.occupation)\n",
    " "
   ]
  },
  {
   "cell_type": "code",
   "execution_count": 32,
   "metadata": {},
   "outputs": [],
   "source": [
    "class Student(Characters):\n",
    "    def __init__(self, firstname, lastname, gender, age, hobbies):\n",
    "        super().__init__(firstname, lastname)\n",
    "        self.gender = gender\n",
    "        self.age = age\n",
    "        self.hobbies = hobbies\n",
    "\n",
    "    def profilestud(self):\n",
    "        print('-'*25)\n",
    "        print('Hello my name is', self.firstname, self.lastname)\n",
    "        print('Gender: ', self.gender)\n",
    "        print('Age: ', self.age)\n",
    "        print('Hobbies: ', self.hobbies)"
   ]
  },
  {
   "cell_type": "code",
   "execution_count": 29,
   "metadata": {},
   "outputs": [
    {
     "name": "stdout",
     "output_type": "stream",
     "text": [
      "-------------------------\n",
      "Hi I am Nifuji Hirotaka\n",
      "Gender:  Male\n",
      "Age:  26\n",
      "Occupation:  Office Worker\n",
      "-------------------------\n",
      "Hi I am Momose Narumi\n",
      "Gender:  Female\n",
      "Age:  26\n",
      "Occupation:  Office Lady\n",
      "-------------------------\n",
      "Hi I am Tarō Kabakura\n",
      "Gender:  Male\n",
      "Age:  28\n",
      "Occupation:  Office Worker\n",
      "-------------------------\n",
      "Hi I am Koyanagi Hanako\n",
      "Gender:  Female\n",
      "Age:  27\n",
      "Occupation:  Office Lady\n"
     ]
    }
   ],
   "source": [
    "#Input and use profile function to print employee attribute values\n",
    "\n",
    "empObjs = []\n",
    "num_of_emp = int(input('Enter number of employee/s: '))\n",
    "for i in range(0, num_of_emp):\n",
    "    empObjs.append(str(i))\n",
    "\n",
    "for i in range(num_of_emp):\n",
    "    empObjs[i] = Employee(input('First name: '), input('Last name: '), input('Gender: '), str(input('Age: ')), input('Occupation: '))\n",
    "\n",
    "for i in range(num_of_emp):\n",
    "    empObjs[i].profile()"
   ]
  },
  {
   "cell_type": "code",
   "execution_count": 35,
   "metadata": {},
   "outputs": [
    {
     "name": "stdout",
     "output_type": "stream",
     "text": [
      "-------------------------\n",
      "Hello my name is Sakuragi Kō\n",
      "Gender:  Female\n",
      "Age:  19\n",
      "Hobbies:  Gaming\n",
      "-------------------------\n",
      "Hello my name is Nifuji Naoya\n",
      "Gender:  Male\n",
      "Age:  19\n",
      "Hobbies:  Bartending\n"
     ]
    }
   ],
   "source": [
    "#Input and use profilestud function to print student attribute values\n",
    "\n",
    "studObjs = []\n",
    "num_of_stud = int(input('Enter number of student/s: '))\n",
    "for i in range(0, num_of_stud):\n",
    "    studObjs.append(str(i))\n",
    "\n",
    "for i in range(num_of_stud):\n",
    "    studObjs[i] = Student(input('First name: '), input('Last name: '), input('Gender: '), str(input('Age: ')), input('Hobbies: '))\n",
    "\n",
    "for i in range(num_of_stud):\n",
    "    studObjs[i].profilestud()"
   ]
  },
  {
   "cell_type": "markdown",
   "metadata": {},
   "source": [
    "Multiple Inheritance"
   ]
  },
  {
   "cell_type": "code",
   "execution_count": 2,
   "metadata": {},
   "outputs": [],
   "source": [
    "class StoneAge:\n",
    "    def __init__(self, name):\n",
    "        self.name = name\n",
    "        print('A cataclysm happened and', self.name, 'was petrified')\n",
    "\n",
    "class Formula_found(StoneAge):\n",
    "    def __init__(self, name):\n",
    "        super().__init__(name)\n",
    "        print('To undo the petrification, the Revival Fluid which is nitric acid triggers a chain reaction across the stone')\n",
    "\n",
    "class NewAge(StoneAge):\n",
    "    def __init__(self, name):\n",
    "        super().__init__(name)\n",
    "        print('The Revival Fluid depetrified',self.name)\n",
    "\n",
    "class Revived(NewAge, Formula_found):\n",
    "    pass"
   ]
  },
  {
   "cell_type": "code",
   "execution_count": 3,
   "metadata": {},
   "outputs": [
    {
     "name": "stdout",
     "output_type": "stream",
     "text": [
      "A cataclysm happened and Senku Ishigami was petrified\n",
      "To undo the petrification, the Revival Fluid which is nitric acid triggers a chain reaction across the stone\n",
      "The Revival Fluid depetrified Senku Ishigami\n"
     ]
    }
   ],
   "source": [
    "name = input('Enter name: ')\n",
    "human = Revived(name)"
   ]
  },
  {
   "cell_type": "code",
   "execution_count": 147,
   "metadata": {},
   "outputs": [
    {
     "name": "stdout",
     "output_type": "stream",
     "text": [
      "[<class '__main__.Revived'>, <class '__main__.NewAge'>, <class '__main__.Formula_found'>, <class '__main__.StoneAge'>, <class 'object'>]\n"
     ]
    }
   ],
   "source": [
    "print(Revived.mro())"
   ]
  }
 ],
 "metadata": {
  "kernelspec": {
   "display_name": "Python 3.10.5 64-bit",
   "language": "python",
   "name": "python3"
  },
  "language_info": {
   "codemirror_mode": {
    "name": "ipython",
    "version": 3
   },
   "file_extension": ".py",
   "mimetype": "text/x-python",
   "name": "python",
   "nbconvert_exporter": "python",
   "pygments_lexer": "ipython3",
   "version": "3.10.5"
  },
  "orig_nbformat": 4,
  "vscode": {
   "interpreter": {
    "hash": "369f2c481f4da34e4445cda3fffd2e751bd1c4d706f27375911949ba6bb62e1c"
   }
  }
 },
 "nbformat": 4,
 "nbformat_minor": 2
}
