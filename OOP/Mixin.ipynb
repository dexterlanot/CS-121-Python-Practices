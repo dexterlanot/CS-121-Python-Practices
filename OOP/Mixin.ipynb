{
 "cells": [
  {
   "cell_type": "markdown",
   "metadata": {},
   "source": [
    "Mixin Practice"
   ]
  },
  {
   "cell_type": "code",
   "execution_count": 3,
   "metadata": {},
   "outputs": [
    {
     "name": "stdout",
     "output_type": "stream",
     "text": [
      "500\n"
     ]
    }
   ],
   "source": [
    "#understanding the framework\n",
    "#from https://www.youtube.com/watch?v=zNPaqZUTzs0\n",
    "class A:\n",
    "    def __init__(self, total):\n",
    "        self.total = total\n",
    "\n",
    "class B(A):\n",
    "    pass\n",
    "\n",
    "class C(A):\n",
    "    pass\n",
    "\n",
    "#---------------------------\n",
    "class Mixin:\n",
    "    def print_total(self):\n",
    "        print(self.total)\n",
    "\n",
    "class D(B, Mixin):\n",
    "    pass\n",
    "\n",
    "class E(B, Mixin):\n",
    "    pass\n",
    "\n",
    "total = E('500')\n",
    "total.print_total()"
   ]
  },
  {
   "cell_type": "markdown",
   "metadata": {},
   "source": [
    "Bank System Creation"
   ]
  },
  {
   "cell_type": "code",
   "execution_count": 36,
   "metadata": {},
   "outputs": [
    {
     "name": "stdout",
     "output_type": "stream",
     "text": [
      "Your recent transaction details\n",
      "***********************************\n",
      "Deposited amount:  5\n",
      "Widthdrew amount:  5\n",
      "Your remaining balance is:  0\n"
     ]
    }
   ],
   "source": [
    "class Balance:\n",
    "    def __init__(self, balance):\n",
    "        self.balance = balance\n",
    "        \n",
    "class Deposit(Balance):\n",
    "    def deposit_money(self, dep_money):\n",
    "        self.dep_money = int(dep_money)\n",
    "        self.balance = self.balance + self.dep_money\n",
    "\n",
    "class Withdraw(Balance):\n",
    "    def cashout(self, w_money):\n",
    "        self.w_money = w_money\n",
    "        self.balance = self.balance - w_money\n",
    "\n",
    "class BankMixin:\n",
    "    def remains(self):\n",
    "        print('Your remaining balance is: ', self.balance)\n",
    "\n",
    "class Reciept(Deposit, Withdraw, BankMixin):\n",
    "    def print_reciept(self):\n",
    "        print('Your recent transaction details')\n",
    "        print('*'*35)\n",
    "        print('Deposited amount: ', self.dep_money)\n",
    "        print('Widthdrew amount: ', self.w_money)\n",
    "\n",
    "bal = 0\n",
    "dep = int(input('how much money to deposit: '))\n",
    "w = int(input('How much money to withdraw: '))\n",
    "\n",
    "my_bank = Reciept(bal)\n",
    "my_bank.deposit_money(dep)\n",
    "my_bank.cashout(w)\n",
    "my_bank.print_reciept()\n",
    "my_bank.remains()"
   ]
  },
  {
   "cell_type": "markdown",
   "metadata": {},
   "source": [
    "Banking Improved version"
   ]
  },
  {
   "cell_type": "code",
   "execution_count": 7,
   "metadata": {},
   "outputs": [],
   "source": [
    "class Balance:\n",
    "    def __init__(self, balance, account_no, pin):\n",
    "        self.balance = balance\n",
    "        self.account_no = account_no\n",
    "        self.pin = pin\n",
    "\n",
    "class Account(Balance):\n",
    "    def signed_in(self):\n",
    "        print('Welcome, ', self.account_no)\n",
    "        print('Enjoy your time here!')\n",
    "    \n",
    "class Deposit(Balance):\n",
    "    def deposit_money(self, dep_money):\n",
    "        self.dep_money = int(dep_money)\n",
    "        self.balance = self.balance + self.dep_money\n",
    "        return self.balance\n",
    "\n",
    "class Withdraw(Balance):\n",
    "    def cashout(self, w_money):\n",
    "        self.w_money = w_money\n",
    "        self.balance = self.balance - w_money\n",
    "        return self.balance\n",
    "\n",
    "class BankingMixin:\n",
    "    def remains(self):\n",
    "        print('Account number: ', self.account_no)\n",
    "        print('Your remaining balance is: ', self.balance)\n",
    "\n",
    "    def print_reciept(self):\n",
    "        print('Account number: ', self.account_no)\n",
    "        print('Your recent transaction details')\n",
    "        print('*'*35)\n",
    "        print('Deposited amount: ', self.dep_money)\n",
    "        print('Widthdrew amount: ', self.w_money)\n",
    "        print('Your remaining balance is: ', self.balance)\n",
    "\n",
    "class Banking(Account, Deposit, Withdraw, BankingMixin):\n",
    "    pass\n"
   ]
  },
  {
   "cell_type": "code",
   "execution_count": 8,
   "metadata": {},
   "outputs": [
    {
     "name": "stdout",
     "output_type": "stream",
     "text": [
      "1 Login\n",
      "2 Exit\n",
      "Welcome,  21-09401\n",
      "Enjoy your time here!\n",
      "\n",
      "Banking System\n",
      "-----------------------------------\n",
      "1 Deposit\n",
      "2 Withdraw\n",
      "3 View Balance\n",
      "4 Print Reciept\n",
      "5 Exit\n",
      "Account number:  21-09401\n",
      "Your remaining balance is:  500\n",
      "Account number:  21-09401\n",
      "Your recent transaction details\n",
      "***********************************\n",
      "Deposited amount:  1000\n",
      "Widthdrew amount:  500\n",
      "Your remaining balance is:  500\n",
      "1 Login\n",
      "2 Exit\n"
     ]
    }
   ],
   "source": [
    "balance = 0\n",
    "\n",
    "while True:\n",
    "    print('1 Login')\n",
    "    print ('2 Exit')\n",
    "    choice = int(input('Enter your choice: '))\n",
    "\n",
    "    if choice == 1:\n",
    "        acc_no = input('Account number: ')\n",
    "        acc_pin = input('PIN: ')\n",
    "\n",
    "        if acc_no == '21-09401' and acc_pin == '1073':\n",
    "            my_bank = Banking(balance, acc_no, acc_pin)\n",
    "            my_bank.signed_in()\n",
    "\n",
    "            print()\n",
    "            print('Banking System')\n",
    "            print('-'*35)\n",
    "            print('1 Deposit')\n",
    "            print('2 Withdraw')\n",
    "            print('3 View Balance')\n",
    "            print('4 Print Reciept')\n",
    "            print('5 Exit')\n",
    "\n",
    "            while True:\n",
    "                b_choice = int(input('Enter your choice: '))\n",
    "\n",
    "                if b_choice == 1:\n",
    "                    dep = int(input('Enter amount to deposit: '))\n",
    "                    my_bank.deposit_money(dep)\n",
    "                \n",
    "                elif b_choice == 2:\n",
    "                    wd = int(input('Enter amount to withdraw: '))\n",
    "                    my_bank.cashout(wd)\n",
    "\n",
    "                elif b_choice == 3:\n",
    "                    my_bank.remains()\n",
    "                \n",
    "                elif b_choice == 4:\n",
    "                    my_bank.print_reciept()\n",
    "\n",
    "                elif b_choice == 5:\n",
    "                    break\n",
    "\n",
    "                else:\n",
    "                    print('Invalid input!')\n",
    "                    break\n",
    "        \n",
    "        else:\n",
    "            print('Invalid account number and passcode!')\n",
    "    \n",
    "    elif choice == 2:\n",
    "        break\n",
    "\n",
    "    else:\n",
    "        print('Invalid input!')\n",
    "        break"
   ]
  }
 ],
 "metadata": {
  "kernelspec": {
   "display_name": "Python 3.10.5 64-bit",
   "language": "python",
   "name": "python3"
  },
  "language_info": {
   "codemirror_mode": {
    "name": "ipython",
    "version": 3
   },
   "file_extension": ".py",
   "mimetype": "text/x-python",
   "name": "python",
   "nbconvert_exporter": "python",
   "pygments_lexer": "ipython3",
   "version": "3.10.5"
  },
  "orig_nbformat": 4,
  "vscode": {
   "interpreter": {
    "hash": "369f2c481f4da34e4445cda3fffd2e751bd1c4d706f27375911949ba6bb62e1c"
   }
  }
 },
 "nbformat": 4,
 "nbformat_minor": 2
}
