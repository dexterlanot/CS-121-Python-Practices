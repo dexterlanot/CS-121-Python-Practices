{
 "cells": [
  {
   "cell_type": "code",
   "execution_count": 35,
   "metadata": {},
   "outputs": [
    {
     "name": "stdout",
     "output_type": "stream",
     "text": [
      "Houtarou Oreki have P 1000\n",
      "Total  expense: P 800\n",
      "Your remaining allowance is: P 200\n"
     ]
    }
   ],
   "source": [
    "class Allowance:\n",
    "  def __init__(self, name, pocket, food, soda):\n",
    "    self.name = name\n",
    "    self.pocket = pocket\n",
    "    self.food = food\n",
    "    self.soda = soda\n",
    "\n",
    "  def pocket_money(self):\n",
    "    return '{} {} {}'.format(self.name,'have P', self.pocket)\n",
    "\n",
    "  def expenses(self): \n",
    "    total = self.food + self.soda\n",
    "    print('Total  expense: P', total)\n",
    "    print('Your remaining allowance is: P', self.pocket - total)\n",
    "\n",
    "pocket = int(input('How much is your allowance: '))\n",
    "food = int(input('How much is your food: '))\n",
    "soda = int(input('How much is your soda: '))  \n",
    "myself = Allowance('Houtarou Oreki', pocket, food, soda)\n",
    "\n",
    "print(myself.pocket_money())\n",
    "myself.expenses()\n"
   ]
  },
  {
   "cell_type": "code",
   "execution_count": 2,
   "metadata": {},
   "outputs": [],
   "source": [
    "\n",
    "class FirstYear:\n",
    "    def __init__(self, name, race, age, status):\n",
    "        self.name = name\n",
    "        self.race = race\n",
    "        self.age = age\n",
    "        self.status = status\n",
    "    \n",
    "    def printChar(self):\n",
    "        print('-'*20)\n",
    "        print('Name: ', self.name)\n",
    "        print('Race: ', self.race)\n",
    "        print('Age: ', self.age)\n",
    "        print('Status: ', self.status)\n",
    "\n",
    "name = []\n",
    "race = []\n",
    "age = []\n",
    "status = []"
   ]
  },
  {
   "cell_type": "code",
   "execution_count": 6,
   "metadata": {},
   "outputs": [],
   "source": [
    "name.clear()\n",
    "race.clear()\n",
    "age.clear()\n",
    "status.clear()"
   ]
  },
  {
   "cell_type": "code",
   "execution_count": 7,
   "metadata": {},
   "outputs": [
    {
     "name": "stdout",
     "output_type": "stream",
     "text": [
      "--------------------\n",
      "Name:  Yuji Itadori\n",
      "Race:  Human\n",
      "Age:  15\n",
      "Status:  Alive\n",
      "--------------------\n",
      "Name:  Megumi Fushiguro\n",
      "Race:  Human\n",
      "Age:  15\n",
      "Status:  Alive\n",
      "--------------------\n",
      "Name:  Nobara Kugisaki\n",
      "Race:  Human\n",
      "Age:  16\n",
      "Status:  Unknown\n"
     ]
    }
   ],
   "source": [
    "for x in range(3):\n",
    "    name.append(input('Enter character name: ', ))\n",
    "    race.append(input('Enter race: '))\n",
    "    age.append(input('Enter age: '))\n",
    "    status.append(input('Enter status: '))\n",
    "\n",
    "for i in range(3):\n",
    "    char = FirstYear(name[i], race[i], age[i], status[i])\n",
    "    char.printChar()"
   ]
  },
  {
   "cell_type": "code",
   "execution_count": 33,
   "metadata": {},
   "outputs": [],
   "source": [
    "class getBMI:\n",
    "    def __init__(self, name, gender, age, height, weight):\n",
    "        self.name = name\n",
    "        self.gender = gender\n",
    "        self.age = age\n",
    "        self.height = float(height)\n",
    "        self.weight = float(weight)\n",
    "\n",
    "    def player_bmi(self):\n",
    "        bmi = self.weight/((self.height/100)*(self.height/100))\n",
    "        return bmi\n",
    "\n",
    "    def player_profile(self):\n",
    "        print('Name:', self.name)\n",
    "        print('Gender:', self.gender)\n",
    "        print('Age:', self.age)\n",
    "        print('Height:', self.height)\n",
    "        print('Weight:', self.weight)\n",
    "        print('BMI:','{:.2f}'.format(self.player_bmi()))\n",
    "        print()"
   ]
  },
  {
   "cell_type": "code",
   "execution_count": 35,
   "metadata": {},
   "outputs": [],
   "source": [
    "karasunoHigh = []\n",
    "\n",
    "num = int(input('Enter num of players: '))\n",
    "for i in range(num):\n",
    "    name = input('Name: ')\n",
    "    gender = input('Gender: ')\n",
    "    age = input('Age: ')\n",
    "    height = input('Height in cm: ')\n",
    "    weight = input('Weight in kg: ')\n",
    "    player = getBMI(name, gender, age, height, weight)\n",
    "    karasunoHigh.append(player)"
   ]
  },
  {
   "cell_type": "code",
   "execution_count": 22,
   "metadata": {},
   "outputs": [],
   "source": [
    "karasunoHigh.clear()"
   ]
  },
  {
   "cell_type": "code",
   "execution_count": 36,
   "metadata": {},
   "outputs": [
    {
     "name": "stdout",
     "output_type": "stream",
     "text": [
      "Name: Kei Tsukishima\n",
      "Gender: Male\n",
      "Age: 16\n",
      "Height: 190.1\n",
      "Weight: 68.4\n",
      "BMI: 18.93\n",
      "\n",
      "Name: Shōyō Hinata\n",
      "Gender: Male\n",
      "Age: 16\n",
      "Height: 164.2\n",
      "Weight: 51.9\n",
      "BMI: 19.25\n",
      "\n",
      "Name: Tobio Kageyama\n",
      "Gender: Male\n",
      "Age: 16\n",
      "Height: 181.9\n",
      "Weight: 66.3\n",
      "BMI: 20.04\n",
      "\n"
     ]
    }
   ],
   "source": [
    "for player in karasunoHigh:\n",
    "    player.player_profile()"
   ]
  }
 ],
 "metadata": {
  "kernelspec": {
   "display_name": "Python 3.10.5 64-bit",
   "language": "python",
   "name": "python3"
  },
  "language_info": {
   "codemirror_mode": {
    "name": "ipython",
    "version": 3
   },
   "file_extension": ".py",
   "mimetype": "text/x-python",
   "name": "python",
   "nbconvert_exporter": "python",
   "pygments_lexer": "ipython3",
   "version": "3.10.5"
  },
  "orig_nbformat": 4,
  "vscode": {
   "interpreter": {
    "hash": "369f2c481f4da34e4445cda3fffd2e751bd1c4d706f27375911949ba6bb62e1c"
   }
  }
 },
 "nbformat": 4,
 "nbformat_minor": 2
}
