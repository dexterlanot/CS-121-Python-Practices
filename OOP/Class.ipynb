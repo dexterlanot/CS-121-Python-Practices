{
 "cells": [
  {
   "cell_type": "code",
   "execution_count": 35,
   "metadata": {},
   "outputs": [
    {
     "name": "stdout",
     "output_type": "stream",
     "text": [
      "Houtarou Oreki have P 1000\n",
      "Total  expense: P 800\n",
      "Your remaining allowance is: P 200\n"
     ]
    }
   ],
   "source": [
    "class Allowance:\n",
    "  def __init__(self, name, pocket, food, soda):\n",
    "    self.name = name\n",
    "    self.pocket = pocket\n",
    "    self.food = food\n",
    "    self.soda = soda\n",
    "\n",
    "  def pocket_money(self):\n",
    "    return '{} {} {}'.format(self.name,'have P', self.pocket)\n",
    "\n",
    "  def expenses(self): \n",
    "    total = self.food + self.soda\n",
    "    print('Total  expense: P', total)\n",
    "    print('Your remaining allowance is: P', self.pocket - total)\n",
    "\n",
    "pocket = int(input('How much is your allowance: '))\n",
    "food = int(input('How much is your food: '))\n",
    "soda = int(input('How much is your soda: '))  \n",
    "myself = Allowance('Houtarou Oreki', pocket, food, soda)\n",
    "\n",
    "print(myself.pocket_money())\n",
    "myself.expenses()\n"
   ]
  },
  {
   "cell_type": "code",
   "execution_count": 27,
   "metadata": {},
   "outputs": [],
   "source": [
    "\n",
    "class FirstYear:\n",
    "    def __init__(self, name, race, age, status):\n",
    "        self.name = name\n",
    "        self.race = race\n",
    "        self.age = age\n",
    "        self.status = status\n",
    "    \n",
    "    def printChar(self):\n",
    "        print('-'*20)\n",
    "        print('Name: ', self.name)\n",
    "        print('Race: ', self.race)\n",
    "        print('Age: ', self.age)\n",
    "        print('Status: ', self.status)\n",
    "\n",
    "name = []\n",
    "race = []\n",
    "age = []\n",
    "status = []"
   ]
  },
  {
   "cell_type": "code",
   "execution_count": 30,
   "metadata": {},
   "outputs": [],
   "source": [
    "for x in range(3):\n",
    "    name.append(input('Enter character name: ', ))\n",
    "    race.append(input('Enter race: '))\n",
    "    age.append(input('Enter age: '))\n",
    "    status.append(input('Enter status: '))\n",
    "\n",
    "charOne = FirstYear(name[0], race[0], age[0], status[0])\n",
    "charTwo = FirstYear(name[1], race[1], age[1], status[1])\n",
    "charThree = FirstYear(name[2], race[2], age[2], status[2])"
   ]
  },
  {
   "cell_type": "code",
   "execution_count": 31,
   "metadata": {},
   "outputs": [
    {
     "name": "stdout",
     "output_type": "stream",
     "text": [
      "---------------\n",
      "Name:  Yuji Itadori\n",
      "Race:  Human\n",
      "Age:  15\n",
      "Status:  Alive\n",
      "---------------\n",
      "Name:  Megumi Fushiguro\n",
      "Race:  Human\n",
      "Age:  15\n",
      "Status:  Alive\n",
      "---------------\n",
      "Name:  Nobara Kugisaki\n",
      "Race:  Human\n",
      "Age:  16\n",
      "Status:  Unknown\n"
     ]
    }
   ],
   "source": [
    "charOne.printChar()\n",
    "charTwo.printChar()\n",
    "charThree.printChar()"
   ]
  }
 ],
 "metadata": {
  "kernelspec": {
   "display_name": "Python 3.10.5 64-bit",
   "language": "python",
   "name": "python3"
  },
  "language_info": {
   "codemirror_mode": {
    "name": "ipython",
    "version": 3
   },
   "file_extension": ".py",
   "mimetype": "text/x-python",
   "name": "python",
   "nbconvert_exporter": "python",
   "pygments_lexer": "ipython3",
   "version": "3.10.5"
  },
  "orig_nbformat": 4,
  "vscode": {
   "interpreter": {
    "hash": "369f2c481f4da34e4445cda3fffd2e751bd1c4d706f27375911949ba6bb62e1c"
   }
  }
 },
 "nbformat": 4,
 "nbformat_minor": 2
}
