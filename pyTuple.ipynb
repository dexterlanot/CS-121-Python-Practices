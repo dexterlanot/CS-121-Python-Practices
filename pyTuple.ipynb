{
 "cells": [
  {
   "cell_type": "markdown",
   "metadata": {},
   "source": [
    "Tuple"
   ]
  },
  {
   "cell_type": "code",
   "execution_count": 1,
   "metadata": {},
   "outputs": [
    {
     "name": "stdout",
     "output_type": "stream",
     "text": [
      "('John Dexter', 19, 'Male', 5.5, 'Batangas City', '2nd Year')\n",
      "6\n",
      "<class 'tuple'>\n",
      "('John Dexter', 19, 'Male', 5.5, 'Batangas City', '2nd Year')\n"
     ]
    }
   ],
   "source": [
    "myProfile = (\"John Dexter\", 19, \"Male\", 5.5, \"Batangas City\", \"2nd Year\")\n",
    "print(myProfile)\n",
    "print(len(myProfile))\n",
    "print(type(myProfile))\n",
    "print(myProfile)"
   ]
  },
  {
   "cell_type": "code",
   "execution_count": 7,
   "metadata": {},
   "outputs": [
    {
     "name": "stdout",
     "output_type": "stream",
     "text": [
      "2nd Year\n",
      "('John Dexter', 19, 'Male', 5.5) ('Batangas City', '2nd Year') (19, 'Male')\n",
      "your height is 5.5 ft\n"
     ]
    }
   ],
   "source": [
    "print(myProfile[5])\n",
    "print(myProfile[:4], myProfile[4:], myProfile[-5:-3])\n",
    "if 5.6 in myProfile:\n",
    "    print(myProfile)\n",
    "else:\n",
    "    print(\"your height is 5.5 ft\")"
   ]
  },
  {
   "cell_type": "code",
   "execution_count": 27,
   "metadata": {},
   "outputs": [
    {
     "name": "stdout",
     "output_type": "stream",
     "text": [
      "('John Dexter', 19, 'Male', 5.5, 'Batangas City', '2nd Year - BSIT')\n",
      "('John Dexter', 19, 'Male', 'Batangas City', '2nd Year - BSIT')\n"
     ]
    }
   ],
   "source": [
    "myProfile = (\"John Dexter\", 19, \"Male\", 5.5, \"Batangas City\", \"2nd Year\")\n",
    "me = list(myProfile)\n",
    "me[5] = \"2nd Year - BSIT\"\n",
    "myProfile = tuple(me)\n",
    "print (myProfile)\n",
    "\n",
    "me.remove(5.5)\n",
    "myProfile = tuple(me)\n",
    "print (myProfile)\n"
   ]
  },
  {
   "cell_type": "code",
   "execution_count": 25,
   "metadata": {},
   "outputs": [
    {
     "name": "stdout",
     "output_type": "stream",
     "text": [
      "('John Dexter', 19, 'Male', 5.5, 'Batangas City', '2nd Year', 'want more?')\n"
     ]
    }
   ],
   "source": [
    "myProfile = (\"John Dexter\", 19, \"Male\", 5.5, \"Batangas City\", \"2nd Year\")\n",
    "myself = (\"want more?\",)\n",
    "myProfile += myself\n",
    "print(myProfile)"
   ]
  },
  {
   "cell_type": "code",
   "execution_count": 32,
   "metadata": {},
   "outputs": [
    {
     "name": "stdout",
     "output_type": "stream",
     "text": [
      "John Dexter\n",
      "19\n",
      "Male\n",
      "5.5\n",
      "Batangas City\n",
      "2nd Year\n"
     ]
    }
   ],
   "source": [
    "myProfile = (\"John Dexter\", 19, \"Male\", 5.5, \"Batangas City\", \"2nd Year\")\n",
    "i = 0\n",
    "while i < len(myProfile):\n",
    "    print(myProfile[i])\n",
    "    i+=1"
   ]
  },
  {
   "cell_type": "code",
   "execution_count": 33,
   "metadata": {},
   "outputs": [
    {
     "ename": "NameError",
     "evalue": "name 'myProfile' is not defined",
     "output_type": "error",
     "traceback": [
      "\u001b[1;31m---------------------------------------------------------------------------\u001b[0m",
      "\u001b[1;31mNameError\u001b[0m                                 Traceback (most recent call last)",
      "\u001b[1;32mc:\\Users\\Dexter\\Desktop\\Codes\\java\\pyTuple.ipynb Cell 7\u001b[0m in \u001b[0;36m<cell line: 2>\u001b[1;34m()\u001b[0m\n\u001b[0;32m      <a href='vscode-notebook-cell:/c%3A/Users/Dexter/Desktop/Codes/java/pyTuple.ipynb#X15sZmlsZQ%3D%3D?line=0'>1</a>\u001b[0m \u001b[39mdel\u001b[39;00m myProfile\n\u001b[1;32m----> <a href='vscode-notebook-cell:/c%3A/Users/Dexter/Desktop/Codes/java/pyTuple.ipynb#X15sZmlsZQ%3D%3D?line=1'>2</a>\u001b[0m \u001b[39mprint\u001b[39m(myProfile)\n",
      "\u001b[1;31mNameError\u001b[0m: name 'myProfile' is not defined"
     ]
    }
   ],
   "source": [
    "del myProfile\n",
    "print(myProfile)"
   ]
  }
 ],
 "metadata": {
  "kernelspec": {
   "display_name": "Python 3.10.5 64-bit",
   "language": "python",
   "name": "python3"
  },
  "language_info": {
   "codemirror_mode": {
    "name": "ipython",
    "version": 3
   },
   "file_extension": ".py",
   "mimetype": "text/x-python",
   "name": "python",
   "nbconvert_exporter": "python",
   "pygments_lexer": "ipython3",
   "version": "3.10.5"
  },
  "orig_nbformat": 4,
  "vscode": {
   "interpreter": {
    "hash": "369f2c481f4da34e4445cda3fffd2e751bd1c4d706f27375911949ba6bb62e1c"
   }
  }
 },
 "nbformat": 4,
 "nbformat_minor": 2
}
