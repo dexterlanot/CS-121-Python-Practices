{
 "cells": [
  {
   "cell_type": "markdown",
   "metadata": {},
   "source": [
    "List"
   ]
  },
  {
   "cell_type": "code",
   "execution_count": 1,
   "metadata": {},
   "outputs": [
    {
     "name": "stdout",
     "output_type": "stream",
     "text": [
      "['chocolate', 'mocha', 'tea', 'black', 'brewed', 'cappuccino']\n",
      "6\n",
      "<class 'list'>\n",
      "['chocolate', 'mocha', 'tea', 'black', 'brewed', 'cappuccino']\n"
     ]
    }
   ],
   "source": [
    "hotDrinks = [\"chocolate\", \"mocha\", \"tea\", \"black\", \"brewed\", \"cappuccino\"]\n",
    "print(hotDrinks)\n",
    "\n",
    "print(len(hotDrinks))\n",
    "\n",
    "print(type(hotDrinks))\n",
    "\n",
    "hotDrinks = list((\"chocolate\", \"mocha\", \"tea\", \"black\", \"brewed\", \"cappuccino\"))\n",
    "print(hotDrinks)"
   ]
  },
  {
   "cell_type": "code",
   "execution_count": 8,
   "metadata": {},
   "outputs": [
    {
     "name": "stdout",
     "output_type": "stream",
     "text": [
      "mocha\n",
      "['chocolate', 'mocha', 'tea', 'black', 'brewed'] ['brewed', 'cappuccino'] ['black', 'brewed']\n",
      "tea is in this list\n"
     ]
    }
   ],
   "source": [
    "hotDrinks = [\"chocolate\", \"mocha\", \"tea\", \"black\", \"brewed\", \"cappuccino\"]\n",
    "print(hotDrinks[1])\n",
    "print(hotDrinks[:5], hotDrinks[4:], hotDrinks[-3:-1])\n",
    "if \"tea\" in hotDrinks:\n",
    "    print(\"tea is in this list\")"
   ]
  },
  {
   "cell_type": "code",
   "execution_count": 11,
   "metadata": {},
   "outputs": [
    {
     "name": "stdout",
     "output_type": "stream",
     "text": [
      "['chocolate', 'mocha', 'tea', 'milk', 'brewed', 'cappuccino']\n",
      "['chocolate', 'mocha', 'tea', 'milk', 'latte', 'barako', 'cappuccino']\n",
      "['chocolate', 'mocha', 'tea', 'milk', 'latte', 'barako', 'cappuccino', 'vanilla']\n"
     ]
    }
   ],
   "source": [
    "hotDrinks = [\"chocolate\", \"mocha\", \"tea\", \"black\", \"brewed\", \"cappuccino\"]\n",
    "hotDrinks[3] = \"milk\"\n",
    "print(hotDrinks)\n",
    "\n",
    "hotDrinks[4:5] = [\"latte\",\"barako\"]\n",
    "print(hotDrinks)\n",
    "\n",
    "hotDrinks.insert(7, \"vanilla\")\n",
    "print(hotDrinks)"
   ]
  },
  {
   "cell_type": "code",
   "execution_count": 12,
   "metadata": {},
   "outputs": [
    {
     "name": "stdout",
     "output_type": "stream",
     "text": [
      "['chocolate', 'mocha', 'tea', 'black', 'brewed', 'cappuccino', 'milk']\n",
      "['chocolate', 'mocha', 'tea', 'black', 'brewed', 'cappuccino', 'milk', 'barako', 'latte']\n"
     ]
    }
   ],
   "source": [
    "hotDrinks = [\"chocolate\", \"mocha\", \"tea\", \"black\", \"brewed\", \"cappuccino\"]\n",
    "coffee = (\"barako\" , \"latte\")\n",
    "hotDrinks.append(\"milk\")\n",
    "print(hotDrinks)\n",
    "\n",
    "hotDrinks.extend(coffee)\n",
    "print(hotDrinks)"
   ]
  },
  {
   "cell_type": "code",
   "execution_count": 15,
   "metadata": {},
   "outputs": [
    {
     "name": "stdout",
     "output_type": "stream",
     "text": [
      "['chocolate', 'mocha', 'tea', 'black', 'brewed', 'cappuccino', 'milk', 'latte']\n",
      "['chocolate', 'mocha', 'tea', 'black', 'brewed', 'cappuccino', 'milk']\n",
      "['mocha', 'tea', 'black', 'brewed', 'cappuccino', 'milk']\n",
      "[]\n"
     ]
    }
   ],
   "source": [
    "hotDrinks = [\"chocolate\", \"mocha\", \"tea\", \"black\", \"brewed\", \"cappuccino\", \"milk\", \"barako\", \"latte\"]\n",
    "hotDrinks.remove(\"barako\")\n",
    "print(hotDrinks)\n",
    "\n",
    "hotDrinks.pop(-1)\n",
    "print(hotDrinks)\n",
    "\n",
    "del hotDrinks[0]\n",
    "print(hotDrinks)\n",
    "\n",
    "hotDrinks.clear()\n",
    "print(hotDrinks)"
   ]
  },
  {
   "cell_type": "code",
   "execution_count": 25,
   "metadata": {},
   "outputs": [
    {
     "name": "stdout",
     "output_type": "stream",
     "text": [
      "chocolate\n",
      "mocha\n",
      "tea\n",
      "black\n",
      "brewed\n",
      "cappuccino\n",
      "\n",
      "\n"
     ]
    }
   ],
   "source": [
    "hotDrinks = [\"chocolate\", \"mocha\", \"tea\", \"black\", \"brewed\", \"cappuccino\"]\n",
    "for x in hotDrinks:\n",
    "    print(x)\n",
    "print('\\n')"
   ]
  }
 ],
 "metadata": {
  "kernelspec": {
   "display_name": "Python 3.10.5 64-bit",
   "language": "python",
   "name": "python3"
  },
  "language_info": {
   "codemirror_mode": {
    "name": "ipython",
    "version": 3
   },
   "file_extension": ".py",
   "mimetype": "text/x-python",
   "name": "python",
   "nbconvert_exporter": "python",
   "pygments_lexer": "ipython3",
   "version": "3.10.5"
  },
  "orig_nbformat": 4,
  "vscode": {
   "interpreter": {
    "hash": "369f2c481f4da34e4445cda3fffd2e751bd1c4d706f27375911949ba6bb62e1c"
   }
  }
 },
 "nbformat": 4,
 "nbformat_minor": 2
}
