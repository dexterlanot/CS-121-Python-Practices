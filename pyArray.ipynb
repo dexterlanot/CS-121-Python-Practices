{
 "cells": [
  {
   "cell_type": "code",
   "execution_count": 6,
   "metadata": {},
   "outputs": [
    {
     "name": "stdout",
     "output_type": "stream",
     "text": [
      "array('i', [18306, 90255, 67416, 48133, 40872])\n"
     ]
    }
   ],
   "source": [
    "from array import *\n",
    "\n",
    "studNo = array('i', [])\n",
    "n = int(input('Enter array size: '))\n",
    "\n",
    "for i in range(n):\n",
    "    x = int(input('Student No: '))\n",
    "    studNo.append(x)\n",
    "\n",
    "print (studNo)"
   ]
  },
  {
   "cell_type": "code",
   "execution_count": 21,
   "metadata": {},
   "outputs": [
    {
     "name": "stdout",
     "output_type": "stream",
     "text": [
      "90255\n",
      "67416\n",
      "array('i', [90255, 67416, 48133, 40872]) array('i', [18306, 90255, 67416, 48133])\n"
     ]
    }
   ],
   "source": [
    "print(studNo[1])\n",
    "print(studNo[-3])\n",
    "print(studNo[1:], studNo[:4])"
   ]
  },
  {
   "cell_type": "code",
   "execution_count": 22,
   "metadata": {},
   "outputs": [
    {
     "name": "stdout",
     "output_type": "stream",
     "text": [
      "array('i', [18306, 90255, 67416, 48133, 40872, 59165])\n"
     ]
    }
   ],
   "source": [
    "studNo.append(59165)\n",
    "print(studNo)"
   ]
  },
  {
   "cell_type": "code",
   "execution_count": 31,
   "metadata": {},
   "outputs": [
    {
     "name": "stdout",
     "output_type": "stream",
     "text": [
      "array('i', [2, 9, 5, 6, 7, 6, 4, 2, 1, 7, 8, 2])\n"
     ]
    }
   ],
   "source": [
    "studNo = array('i', [2,9,5,6,7,6])\n",
    "newstudNo = array('i', [4,2,1,7,8,2])\n",
    "\n",
    "studNo.extend(newstudNo)\n",
    "print(studNo)"
   ]
  },
  {
   "cell_type": "code",
   "execution_count": 32,
   "metadata": {},
   "outputs": [
    {
     "name": "stdout",
     "output_type": "stream",
     "text": [
      "array('i', [9, 5, 6, 7, 6, 4, 2, 1, 7, 8])\n"
     ]
    }
   ],
   "source": [
    "studNo.pop(-1)\n",
    "studNo.remove(2)\n",
    "print(studNo)"
   ]
  },
  {
   "cell_type": "code",
   "execution_count": 33,
   "metadata": {},
   "outputs": [
    {
     "name": "stdout",
     "output_type": "stream",
     "text": [
      "array('i', [8, 7, 1, 2, 4, 6, 7, 6, 5, 9])\n"
     ]
    }
   ],
   "source": [
    "studNo.reverse()\n",
    "print(studNo)"
   ]
  }
 ],
 "metadata": {
  "kernelspec": {
   "display_name": "Python 3.10.5 64-bit",
   "language": "python",
   "name": "python3"
  },
  "language_info": {
   "codemirror_mode": {
    "name": "ipython",
    "version": 3
   },
   "file_extension": ".py",
   "mimetype": "text/x-python",
   "name": "python",
   "nbconvert_exporter": "python",
   "pygments_lexer": "ipython3",
   "version": "3.10.5"
  },
  "orig_nbformat": 4,
  "vscode": {
   "interpreter": {
    "hash": "369f2c481f4da34e4445cda3fffd2e751bd1c4d706f27375911949ba6bb62e1c"
   }
  }
 },
 "nbformat": 4,
 "nbformat_minor": 2
}
