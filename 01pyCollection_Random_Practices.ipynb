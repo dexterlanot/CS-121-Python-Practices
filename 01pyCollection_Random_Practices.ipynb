{
 "cells": [
  {
   "cell_type": "code",
   "execution_count": 44,
   "metadata": {},
   "outputs": [
    {
     "name": "stdout",
     "output_type": "stream",
     "text": [
      "{'Name': 'Anya Forger', 'Midterm': 67.0, 'Final': 74.0, 'Average': 71.2, 'Remarks': 'Failed'}\n"
     ]
    }
   ],
   "source": [
    "studRecord = {}\n",
    "maxAttribute = 4\n",
    "\n",
    "while len(studRecord) < maxAttribute:\n",
    "    name = input(\"Student Name: \")\n",
    "    midterm = float(input(\"Midterm Grade: \"))\n",
    "    finals = float(input(\"Final Grade: \"))\n",
    "    \n",
    "    result = midterm*0.40 + finals*0.60\n",
    "\n",
    "    if result > 75:\n",
    "        remarks = 'Passed'\n",
    "    else:\n",
    "        remarks = 'Failed'\n",
    "\n",
    "    studRecord['Name'] = name\n",
    "    studRecord['Midterm'] = midterm\n",
    "    studRecord['Final'] = finals\n",
    "    studRecord['Average'] = result\n",
    "    studRecord['Remarks'] = remarks\n",
    "\n",
    "\n",
    "print(studRecord)"
   ]
  },
  {
   "cell_type": "code",
   "execution_count": 45,
   "metadata": {},
   "outputs": [
    {
     "name": "stdout",
     "output_type": "stream",
     "text": [
      "{\n",
      "    \"studentOne\": {\n",
      "        \"Name\": \"Damian Desmond\",\n",
      "        \"Midterm\": 99.0,\n",
      "        \"Final\": 97.0,\n",
      "        \"Average\": 97.8,\n",
      "        \"Remarks\": \"Passed\"\n",
      "    },\n",
      "    \"studentTwo\": {\n",
      "        \"Name\": \"Becky Blackbell\",\n",
      "        \"Midterm\": 89.0,\n",
      "        \"Final\": 93.0,\n",
      "        \"Average\": 91.4,\n",
      "        \"Remarks\": \"Passed\"\n",
      "    }\n",
      "}\n"
     ]
    }
   ],
   "source": [
    "import json\n",
    "\n",
    "studentOne = {}\n",
    "studentTwo = {}\n",
    "\n",
    "studRecord = {'studentOne' : studentOne, 'studentTwo' : studentTwo}\n",
    "maxAttribute = 4\n",
    "\n",
    "\n",
    "while len(studentOne) < maxAttribute:\n",
    "    name = input(\"Student Name: \")\n",
    "    midterm = float(input(\"Midterm Grade: \"))\n",
    "    finals = float(input(\"Final Grade: \"))\n",
    "    \n",
    "    result = midterm*0.40 + finals*0.60\n",
    "\n",
    "    if result > 75:\n",
    "        remarks = 'Passed'\n",
    "    else:\n",
    "        remarks = 'Failed'\n",
    "\n",
    "    studentOne['Name'] = name\n",
    "    studentOne['Midterm'] = midterm\n",
    "    studentOne['Final'] = finals\n",
    "    studentOne['Average'] = result\n",
    "    studentOne['Remarks'] = remarks\n",
    "    \n",
    "while len(studentTwo) < maxAttribute:\n",
    "    name = input(\"Student Name: \")\n",
    "    midterm = float(input(\"Midterm Grade: \"))\n",
    "    finals = float(input(\"Final Grade: \"))\n",
    "    \n",
    "    result = midterm*0.40 + finals*0.60\n",
    "\n",
    "    if result > 75:\n",
    "        remarks = 'Passed'\n",
    "    else:\n",
    "        remarks = 'Failed'\n",
    "\n",
    "    studentTwo['Name'] = name\n",
    "    studentTwo['Midterm'] = midterm\n",
    "    studentTwo['Final'] = finals\n",
    "    studentTwo['Average'] = result\n",
    "    studentTwo['Remarks'] = remarks\n",
    "\n",
    "display_ = json.dumps(studRecord, indent=4)\n",
    "\n",
    "print(display_)"
   ]
  },
  {
   "cell_type": "code",
   "execution_count": 46,
   "metadata": {},
   "outputs": [
    {
     "name": "stdout",
     "output_type": "stream",
     "text": [
      "[744, 519, 286, 716, 865]\n",
      "Even: {744, 716, 286}\n",
      "Odd: {865, 519}\n"
     ]
    }
   ],
   "source": [
    "randomNum = []\n",
    "\n",
    "elements = int(input(\"Enter number of elements: \"))\n",
    "for i in range(0, elements):\n",
    "    randomNum.append(int(input(\"Enter element values: \")))\n",
    "\n",
    "print (randomNum)\n",
    "even = []\n",
    "odd = []\n",
    "\n",
    "for val in randomNum:\n",
    "    if val % 2 == 0:\n",
    "        even.append(val)\n",
    "    else:\n",
    "        odd.append(val)\n",
    "\n",
    "print ('Even:', set(even))\n",
    "print ('Odd:', set(odd))"
   ]
  },
  {
   "cell_type": "code",
   "execution_count": 1,
   "metadata": {},
   "outputs": [
    {
     "name": "stdout",
     "output_type": "stream",
     "text": [
      "Karma Akabane 175 Male\n",
      "Yuma Isogai 172 Male\n",
      "Nagisa Shiota 159 Male\n",
      "Kaede Kayano 143 Female\n",
      "Yukiko Kanzaki 159 Female\n"
     ]
    }
   ],
   "source": [
    "from array import *\n",
    "name = ['Karma Akabane','Yuma Isogai','Nagisa Shiota','Kaede Kayano','Yukiko Kanzaki']\n",
    "height = array('i', [175,172,159,143,159])\n",
    "gender = ('Male','Male','Male','Female','Female',)\n",
    "\n",
    "for i in range(5):\n",
    "    print(name[i], height[i], gender[i])"
   ]
  },
  {
   "cell_type": "code",
   "execution_count": 47,
   "metadata": {},
   "outputs": [],
   "source": [
    "contactname = []\n",
    "contactNo = []\n",
    "\n",
    "def addContact():\n",
    "    n = int(input(\"Enter number of contacts to add: \"))\n",
    "    for i in range(0, n):\n",
    "        contactname.append(input(\"Name: \"))\n",
    "        contactNo.append(str(input(\"Contact Num: \")))\n",
    "\n",
    "def displayContact():\n",
    "    for n in range(0, len(contactname)):\n",
    "        print(\"Name: \", ''.join(contactname[n]))\n",
    "        print(\"Contact Number: \", ''.join(contactNo[n]))\n",
    "\n",
    "def searchContact():\n",
    "    searchName = input('Search for: ')\n",
    "    for x in range(len(contactname)):\n",
    "        if contactname[x] == searchName:\n",
    "            print('Name: ', contactname[x])\n",
    "            print('Contact No.: ', contactNo[x])\n",
    "\n",
    "def delContact():\n",
    "    searchName = input('Name of contact to be deleted: ')\n",
    "    for x in range(len(contactname)):\n",
    "        if contactname[x] == searchName:\n",
    "            contactname.remove(searchName)\n",
    "            print('Contact has been deleted')"
   ]
  },
  {
   "cell_type": "code",
   "execution_count": 52,
   "metadata": {},
   "outputs": [],
   "source": [
    "contactname.clear()\n",
    "contactNo.clear()"
   ]
  },
  {
   "cell_type": "code",
   "execution_count": 55,
   "metadata": {},
   "outputs": [
    {
     "name": "stdout",
     "output_type": "stream",
     "text": [
      "---------------\n",
      "1 - Add\n",
      "2 - Display\n",
      "3 - Search\n",
      "4 - Delete\n",
      "5 - Exit\n",
      "---------------\n",
      "Name:  Tadaomi Karasuma\n",
      "Contact Number:  +81463683857\n",
      "Name:  Irina Jelavic\n",
      "Contact Number:  +81135037926\n",
      "---------------\n",
      "1 - Add\n",
      "2 - Display\n",
      "3 - Search\n",
      "4 - Delete\n",
      "5 - Exit\n",
      "---------------\n",
      "Name:  Irina Jelavic\n",
      "Contact No.:  +81135037926\n",
      "---------------\n",
      "1 - Add\n",
      "2 - Display\n",
      "3 - Search\n",
      "4 - Delete\n",
      "5 - Exit\n",
      "---------------\n",
      "---------------\n",
      "1 - Add\n",
      "2 - Display\n",
      "3 - Search\n",
      "4 - Delete\n",
      "5 - Exit\n",
      "---------------\n",
      "Name:  Tadaomi Karasuma\n",
      "Contact Number:  +81463683857\n",
      "Name:  Irina Jelavic\n",
      "Contact Number:  +81135037926\n",
      "---------------\n",
      "1 - Add\n",
      "2 - Display\n",
      "3 - Search\n",
      "4 - Delete\n",
      "5 - Exit\n",
      "---------------\n",
      "Name:  Tadaomi Karasuma\n",
      "Contact Number:  +81463683857\n",
      "Name:  Irina Jelavic\n",
      "Contact Number:  +81135037926\n",
      "---------------\n",
      "1 - Add\n",
      "2 - Display\n",
      "3 - Search\n",
      "4 - Delete\n",
      "5 - Exit\n",
      "---------------\n",
      "Incorrect Entry!\n",
      "Incorrect entry!, Try again?\n",
      "---------------\n",
      "1 - Add\n",
      "2 - Display\n",
      "3 - Search\n",
      "4 - Delete\n",
      "5 - Exit\n",
      "---------------\n"
     ]
    }
   ],
   "source": [
    "while True:\n",
    "    print('-'*15)\n",
    "    print('1 - Add')\n",
    "    print ('2 - Display')\n",
    "    print('3 - Search')\n",
    "    print('4 - Delete')\n",
    "    print('5 - Exit')\n",
    "    print('-'*15)\n",
    "\n",
    "    option = \"\"\n",
    "    try: option = int(input('\\nChoose an option: '))\n",
    "    except ValueError:\n",
    "        print('Incorrect Entry!')\n",
    "\n",
    "    if option == 5:\n",
    "        break\n",
    "\n",
    "    elif option == 1:\n",
    "        addContact()\n",
    "\n",
    "    elif option == 2:\n",
    "        displayContact()\n",
    "\n",
    "    elif option == 3:\n",
    "        searchContact()\n",
    "\n",
    "    elif option == 4:\n",
    "        delContact()\n",
    "\n",
    "    else:\n",
    "        print('Incorrect entry!, Try again?')"
   ]
  },
  {
   "cell_type": "markdown",
   "metadata": {},
   "source": [
    "Full code output cannot be performed in Jupyter T_T"
   ]
  },
  {
   "cell_type": "code",
   "execution_count": 3,
   "metadata": {},
   "outputs": [
    {
     "name": "stdout",
     "output_type": "stream",
     "text": [
      "Name:  Tadaomi Karasuma\n",
      "Contact Number:  +81463683857\n",
      "Name:  Irina Jelavic\n",
      "Contact Number:  +81135037926\n",
      "Name:  Korosensei\n",
      "Contact Number:  +81696351577\n",
      "Name:  Irina Jelavic\n",
      "Contact No.:  +81135037926\n",
      "Contact has been deleted\n"
     ]
    }
   ],
   "source": [
    "contactname = []\n",
    "contactNo = []\n",
    "\n",
    "def addContact():\n",
    "    n = int(input(\"Enter number of contacts to add: \"))\n",
    "    for i in range(0, n):\n",
    "        contactname.append(input(\"Name: \"))\n",
    "        contactNo.append(str(input(\"Contact Num: \")))\n",
    "\n",
    "def displayContact():\n",
    "    for n in range(0, len(contactname)):\n",
    "        print(\"Name: \", ''.join(contactname[n]))\n",
    "        print(\"Contact Number: \", ''.join(contactNo[n]))\n",
    "\n",
    "def searchContact():\n",
    "    searchName = input('Search for: ')\n",
    "    for x in range(len(contactname)):\n",
    "        if contactname[x] == searchName:\n",
    "            print('Name: ', contactname[x])\n",
    "            print('Contact No.: ', contactNo[x])\n",
    "\n",
    "def delContact():\n",
    "    searchName = input('Name of contact to be deleted: ')\n",
    "    for x in range(len(contactname)):\n",
    "        if contactname[x] == searchName:\n",
    "            contactname.remove(searchName)\n",
    "            print('Contact has been deleted')\n",
    "\n",
    "addContact()\n",
    "displayContact() #display contacts\n",
    "searchContact() #search for Irina Jelavic\n",
    "delContact() #delete Korosensei"
   ]
  },
  {
   "cell_type": "code",
   "execution_count": 4,
   "metadata": {},
   "outputs": [
    {
     "name": "stdout",
     "output_type": "stream",
     "text": [
      "Name:  Tadaomi Karasuma\n",
      "Contact Number:  +81463683857\n",
      "Name:  Irina Jelavic\n",
      "Contact Number:  +81135037926\n"
     ]
    }
   ],
   "source": [
    "displayContact()"
   ]
  }
 ],
 "metadata": {
  "kernelspec": {
   "display_name": "Python 3.10.5 64-bit",
   "language": "python",
   "name": "python3"
  },
  "language_info": {
   "codemirror_mode": {
    "name": "ipython",
    "version": 3
   },
   "file_extension": ".py",
   "mimetype": "text/x-python",
   "name": "python",
   "nbconvert_exporter": "python",
   "pygments_lexer": "ipython3",
   "version": "3.10.5"
  },
  "orig_nbformat": 4,
  "vscode": {
   "interpreter": {
    "hash": "369f2c481f4da34e4445cda3fffd2e751bd1c4d706f27375911949ba6bb62e1c"
   }
  }
 },
 "nbformat": 4,
 "nbformat_minor": 2
}
