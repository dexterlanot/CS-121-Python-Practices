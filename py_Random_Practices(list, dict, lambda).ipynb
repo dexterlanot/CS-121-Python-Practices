{
 "cells": [
  {
   "cell_type": "code",
   "execution_count": 5,
   "metadata": {},
   "outputs": [
    {
     "name": "stdout",
     "output_type": "stream",
     "text": [
      "1 Add\n",
      "2 Subtract\n",
      "3 Multiply\n",
      "4 Divide\n",
      "5 Modulo\n",
      "**********\n",
      "6.0 - 54.0 = -48.0\n"
     ]
    }
   ],
   "source": [
    "addition = lambda num1, num2 : num1+num2\n",
    "subtract = lambda num1, num2 : num1-num2\n",
    "multiply = lambda num1, num2 : num1*num2\n",
    "divide = lambda num1, num2 : num1/num2\n",
    "modulo = lambda num1, num2 : num1/num2\n",
    "\n",
    "print(\"1 Add\")\n",
    "print(\"2 Subtract\")\n",
    "print(\"3 Multiply\")\n",
    "print(\"4 Divide\")\n",
    "print(\"5 Modulo\")\n",
    "print('*'*10)\n",
    "\n",
    "num1 = float(input(\"Enter a number: \"))\n",
    "num2 = float(input(\"Enter another number: \"))\n",
    "\n",
    "operation = int(input(\"Select an operation to perform: \"))\n",
    "\n",
    "if operation > 0 and operation < 6: \n",
    "        if operation == 1:\n",
    "            print (str(num1) , '+' , str(num2) , '=' , addition(num1, num2))\n",
    "        elif operation == 2:\n",
    "            print (str(num1) , '-' , str(num2) , '=' , subtract(num1, num2))\n",
    "        elif operation == 3:\n",
    "            print (str(num1) , '*' , str(num2) , '=' , multiply(num1, num2))\n",
    "        elif operation == 4:\n",
    "            print (str(num1) , '/' , str(num2) , '=' , divide(num1, num2))\n",
    "        else:\n",
    "            print (str(num1) , '%' , str(num2) , '=' , modulo(num1, num2))\n",
    "else:\n",
    "    print (\"INVALID INPUT\")"
   ]
  },
  {
   "cell_type": "code",
   "execution_count": 44,
   "metadata": {},
   "outputs": [
    {
     "name": "stdout",
     "output_type": "stream",
     "text": [
      "{'Name': 'Anya Forger', 'Midterm': 67.0, 'Final': 74.0, 'Average': 71.2, 'Remarks': 'Failed'}\n"
     ]
    }
   ],
   "source": [
    "studRecord = {}\n",
    "maxAttribute = 4\n",
    "\n",
    "while len(studRecord) < maxAttribute:\n",
    "    name = input(\"Student Name: \")\n",
    "    midterm = float(input(\"Midterm Grade: \"))\n",
    "    finals = float(input(\"Final Grade: \"))\n",
    "    \n",
    "    result = midterm*0.40 + finals*0.60\n",
    "\n",
    "    if result > 75:\n",
    "        remarks = 'Passed'\n",
    "    else:\n",
    "        remarks = 'Failed'\n",
    "\n",
    "    studRecord['Name'] = name\n",
    "    studRecord['Midterm'] = midterm\n",
    "    studRecord['Final'] = finals\n",
    "    studRecord['Average'] = result\n",
    "    studRecord['Remarks'] = remarks\n",
    "\n",
    "\n",
    "print(studRecord)"
   ]
  },
  {
   "cell_type": "code",
   "execution_count": 45,
   "metadata": {},
   "outputs": [
    {
     "name": "stdout",
     "output_type": "stream",
     "text": [
      "{\n",
      "    \"studentOne\": {\n",
      "        \"Name\": \"Damian Desmond\",\n",
      "        \"Midterm\": 99.0,\n",
      "        \"Final\": 97.0,\n",
      "        \"Average\": 97.8,\n",
      "        \"Remarks\": \"Passed\"\n",
      "    },\n",
      "    \"studentTwo\": {\n",
      "        \"Name\": \"Becky Blackbell\",\n",
      "        \"Midterm\": 89.0,\n",
      "        \"Final\": 93.0,\n",
      "        \"Average\": 91.4,\n",
      "        \"Remarks\": \"Passed\"\n",
      "    }\n",
      "}\n"
     ]
    }
   ],
   "source": [
    "import json\n",
    "\n",
    "studentOne = {}\n",
    "studentTwo = {}\n",
    "\n",
    "studRecord = {'studentOne' : studentOne, 'studentTwo' : studentTwo}\n",
    "maxAttribute = 4\n",
    "\n",
    "\n",
    "while len(studentOne) < maxAttribute:\n",
    "    name = input(\"Student Name: \")\n",
    "    midterm = float(input(\"Midterm Grade: \"))\n",
    "    finals = float(input(\"Final Grade: \"))\n",
    "    \n",
    "    result = midterm*0.40 + finals*0.60\n",
    "\n",
    "    if result > 75:\n",
    "        remarks = 'Passed'\n",
    "    else:\n",
    "        remarks = 'Failed'\n",
    "\n",
    "    studentOne['Name'] = name\n",
    "    studentOne['Midterm'] = midterm\n",
    "    studentOne['Final'] = finals\n",
    "    studentOne['Average'] = result\n",
    "    studentOne['Remarks'] = remarks\n",
    "    \n",
    "while len(studentTwo) < maxAttribute:\n",
    "    name = input(\"Student Name: \")\n",
    "    midterm = float(input(\"Midterm Grade: \"))\n",
    "    finals = float(input(\"Final Grade: \"))\n",
    "    \n",
    "    result = midterm*0.40 + finals*0.60\n",
    "\n",
    "    if result > 75:\n",
    "        remarks = 'Passed'\n",
    "    else:\n",
    "        remarks = 'Failed'\n",
    "\n",
    "    studentTwo['Name'] = name\n",
    "    studentTwo['Midterm'] = midterm\n",
    "    studentTwo['Final'] = finals\n",
    "    studentTwo['Average'] = result\n",
    "    studentTwo['Remarks'] = remarks\n",
    "\n",
    "display_ = json.dumps(studRecord, indent=4)\n",
    "\n",
    "print(display_)"
   ]
  },
  {
   "cell_type": "code",
   "execution_count": 31,
   "metadata": {},
   "outputs": [
    {
     "name": "stdout",
     "output_type": "stream",
     "text": [
      "[49, 26, 5, 43, 47, 4, 38, 23, 44, 27]\n",
      "Even: {26, 4, 38, 44}\n",
      "Odd: {5, 43, 47, 49, 23, 27}\n"
     ]
    }
   ],
   "source": [
    "randomNum = []\n",
    "\n",
    "elements = int(input(\"Enter number of elements: \"))\n",
    "for i in range(0, elements):\n",
    "    randomNum.append(int(input(\"Enter element values: \")))\n",
    "\n",
    "print (randomNum)\n",
    "even = []\n",
    "odd = []\n",
    "\n",
    "for val in randomNum:\n",
    "    if val % 2 == 0:\n",
    "        even.append(val)\n",
    "    else:\n",
    "        odd.append(val)\n",
    "\n",
    "print ('Even:', set(even))\n",
    "print ('Odd:', set(odd))"
   ]
  }
 ],
 "metadata": {
  "kernelspec": {
   "display_name": "Python 3.10.5 64-bit",
   "language": "python",
   "name": "python3"
  },
  "language_info": {
   "codemirror_mode": {
    "name": "ipython",
    "version": 3
   },
   "file_extension": ".py",
   "mimetype": "text/x-python",
   "name": "python",
   "nbconvert_exporter": "python",
   "pygments_lexer": "ipython3",
   "version": "3.10.5"
  },
  "orig_nbformat": 4,
  "vscode": {
   "interpreter": {
    "hash": "369f2c481f4da34e4445cda3fffd2e751bd1c4d706f27375911949ba6bb62e1c"
   }
  }
 },
 "nbformat": 4,
 "nbformat_minor": 2
}
