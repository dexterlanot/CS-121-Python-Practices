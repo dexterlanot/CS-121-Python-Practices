{
 "cells": [
  {
   "cell_type": "code",
   "execution_count": 3,
   "metadata": {},
   "outputs": [
    {
     "name": "stdout",
     "output_type": "stream",
     "text": [
      "{'Legia': 'Beginning', 'Baran': 'White Flames', 'Ashborn': 'Shadow', 'Jin-woo': 'S-Rank', 'Jinho': 'D-Rank'}\n"
     ]
    }
   ],
   "source": [
    "Monarchs = {\"Legia\" : \"Beginning\", \"Baran\" : \"White Flames\", \"Ashborn\" : \"Shadow\"}\n",
    "Ranks = {\"Jin-woo\" : \"S-Rank\", \"Jinho\" : \"D-Rank\"}\n",
    "\n",
    "merge = {**Monarchs, **Ranks}\n",
    "print(merge)"
   ]
  },
  {
   "cell_type": "code",
   "execution_count": 7,
   "metadata": {},
   "outputs": [
    {
     "name": "stdout",
     "output_type": "stream",
     "text": [
      "Legia : Beginning\n",
      "Baran : White Flames\n",
      "Ashborn : Shadow\n",
      "Jin-woo : S-Rank\n",
      "Jinho : D-Rank\n"
     ]
    }
   ],
   "source": [
    "for key, value in merge.items():\n",
    "    print(key, \":\", value)\n"
   ]
  },
  {
   "cell_type": "code",
   "execution_count": 11,
   "metadata": {},
   "outputs": [
    {
     "name": "stdout",
     "output_type": "stream",
     "text": [
      "[{'Legia': 'Beginning', 'Baran': 'White Flames', 'Ashborn': 'Shadow'}, {'Jin-woo': 'S-Rank', 'Jinho': 'D-Rank'}]\n",
      "Beginning\n",
      "D-Rank\n"
     ]
    }
   ],
   "source": [
    "levelUp = [Monarchs, Ranks]\n",
    "print(levelUp)\n",
    "print(levelUp[0].get(\"Legia\"))\n",
    "print(levelUp[1].get(\"Jinho\"))"
   ]
  },
  {
   "cell_type": "code",
   "execution_count": 18,
   "metadata": {},
   "outputs": [
    {
     "name": "stdout",
     "output_type": "stream",
     "text": [
      "['Fist, Tokyo, Jeju']\n",
      "[\"Red, Hunter's-Guild, Busan\"]\n",
      "{'S-Rank': ['Fist, Tokyo, Jeju'], 'A-Rank': [\"Red, Hunter's-Guild, Busan\"]}\n"
     ]
    }
   ],
   "source": [
    "gates = {'S-Rank' : [\"Fist, Tokyo, Jeju\"],\n",
    "         'A-Rank' : [\"Red, Hunter's-Guild, Busan\"]\n",
    "        }\n",
    "\n",
    "print (gates['S-Rank'])\n",
    "print (gates['A-Rank'])\n",
    "print (gates)"
   ]
  },
  {
   "cell_type": "code",
   "execution_count": 20,
   "metadata": {},
   "outputs": [
    {
     "name": "stdout",
     "output_type": "stream",
     "text": [
      "{'Baran': 'Destruction', 'Antares': 'White Flames', 'Ashborn': 'Shadows'}\n",
      "<class 'dict'>\n"
     ]
    }
   ],
   "source": [
    "name = {'Antares', 'Ashborn', 'Baran'}\n",
    "monarch = {'Destruction', 'Shadows', 'White Flames'}\n",
    "\n",
    "toDict = dict(zip(name, monarch))\n",
    "print(toDict)\n",
    "print(type(toDict))"
   ]
  },
  {
   "cell_type": "code",
   "execution_count": 34,
   "metadata": {},
   "outputs": [
    {
     "name": "stdout",
     "output_type": "stream",
     "text": [
      "{\n",
      "    \"Name\": \"Sung Jin-woo\",\n",
      "    \"Race\": \"Human\",\n",
      "    \"Address\": \"Korea\",\n",
      "    \"Rank\": \"S-Rank\",\n",
      "    \"Class\": \"Mage\",\n",
      "    \"Others\": {\n",
      "        \"Occupation\": [\n",
      "            \"Hunter\",\n",
      "            \"Guildmaster\",\n",
      "            \"Inspector\"\n",
      "        ],\n",
      "        \"Shadows\": [\n",
      "            \"Igris\",\n",
      "            \"Tank\",\n",
      "            \"Iron\",\n",
      "            \"Tusk\",\n",
      "            \"Kaisel\",\n",
      "            \"Beru\",\n",
      "            \"Jima\"\n",
      "        ]\n",
      "    }\n",
      "}\n"
     ]
    }
   ],
   "source": [
    "from dis import dis\n",
    "import json\n",
    "\n",
    "attributes = {\n",
    "    'Occupation' : ['Hunter', 'Guildmaster', 'Inspector'],\n",
    "    'Shadows' : ['Igris', 'Tank', 'Iron', 'Tusk', 'Kaisel', 'Beru', 'Jima']\n",
    "}\n",
    "\n",
    "protagonist = {\n",
    "    'Name' : 'Sung Jin-woo',\n",
    "    'Race' : 'Human',\n",
    "    'Address' : 'Korea',\n",
    "    'Rank' : 'S-Rank',\n",
    "    'Class' : 'Mage',\n",
    "    'Others' : attributes\n",
    "}\n",
    "\n",
    "display_ = json.dumps(protagonist, indent=4)\n",
    "\n",
    "print(display_)"
   ]
  }
 ],
 "metadata": {
  "kernelspec": {
   "display_name": "Python 3.10.5 64-bit",
   "language": "python",
   "name": "python3"
  },
  "language_info": {
   "codemirror_mode": {
    "name": "ipython",
    "version": 3
   },
   "file_extension": ".py",
   "mimetype": "text/x-python",
   "name": "python",
   "nbconvert_exporter": "python",
   "pygments_lexer": "ipython3",
   "version": "3.10.5"
  },
  "orig_nbformat": 4,
  "vscode": {
   "interpreter": {
    "hash": "369f2c481f4da34e4445cda3fffd2e751bd1c4d706f27375911949ba6bb62e1c"
   }
  }
 },
 "nbformat": 4,
 "nbformat_minor": 2
}
